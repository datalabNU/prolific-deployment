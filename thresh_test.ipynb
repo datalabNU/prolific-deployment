{
 "cells": [
  {
   "cell_type": "code",
   "execution_count": 1,
   "metadata": {},
   "outputs": [],
   "source": [
    "import pandas as pd\n",
    "\n",
    "from thresh import load_interface\n",
    "import git, os, shutil\n",
    "from github import Github"
   ]
  },
  {
   "cell_type": "code",
   "execution_count": 2,
   "metadata": {},
   "outputs": [
    {
     "data": {
      "text/html": [
       "<div>\n",
       "<style scoped>\n",
       "    .dataframe tbody tr th:only-of-type {\n",
       "        vertical-align: middle;\n",
       "    }\n",
       "\n",
       "    .dataframe tbody tr th {\n",
       "        vertical-align: top;\n",
       "    }\n",
       "\n",
       "    .dataframe thead th {\n",
       "        text-align: right;\n",
       "    }\n",
       "</style>\n",
       "<table border=\"1\" class=\"dataframe\">\n",
       "  <thead>\n",
       "    <tr style=\"text-align: right;\">\n",
       "      <th></th>\n",
       "      <th>id</th>\n",
       "      <th>text</th>\n",
       "      <th>label</th>\n",
       "      <th>rationale</th>\n",
       "    </tr>\n",
       "  </thead>\n",
       "  <tbody>\n",
       "    <tr>\n",
       "      <th>0</th>\n",
       "      <td>QuaRel_V1_Fr_0223</td>\n",
       "      <td>Question: Mike was snowboarding on the snow an...</td>\n",
       "      <td>B</td>\n",
       "      <td>The answer is B because the question states th...</td>\n",
       "    </tr>\n",
       "    <tr>\n",
       "      <th>1</th>\n",
       "      <td>QuaRel_V1_B5_1403</td>\n",
       "      <td>Question: John and Rita are going for a run.  ...</td>\n",
       "      <td>A</td>\n",
       "      <td>The answer is A, because the question does not...</td>\n",
       "    </tr>\n",
       "    <tr>\n",
       "      <th>2</th>\n",
       "      <td>QuaRel_V1_Fr_0455</td>\n",
       "      <td>Question: The propeller on Kate's boat moved s...</td>\n",
       "      <td>B</td>\n",
       "      <td>The answer is B because the question states th...</td>\n",
       "    </tr>\n",
       "    <tr>\n",
       "      <th>3</th>\n",
       "      <td>QuaRel_V1_Fr_0334</td>\n",
       "      <td>Question: A car gets very hot as it drives up ...</td>\n",
       "      <td>A</td>\n",
       "      <td>The answer is A. The question states that the ...</td>\n",
       "    </tr>\n",
       "    <tr>\n",
       "      <th>4</th>\n",
       "      <td>QuaRel_V1_B5_1282</td>\n",
       "      <td>Question: Juan is injured in a car accident, w...</td>\n",
       "      <td>B</td>\n",
       "      <td>The answer is B because the question states th...</td>\n",
       "    </tr>\n",
       "  </tbody>\n",
       "</table>\n",
       "</div>"
      ],
      "text/plain": [
       "                  id                                               text label  \\\n",
       "0  QuaRel_V1_Fr_0223  Question: Mike was snowboarding on the snow an...     B   \n",
       "1  QuaRel_V1_B5_1403  Question: John and Rita are going for a run.  ...     A   \n",
       "2  QuaRel_V1_Fr_0455  Question: The propeller on Kate's boat moved s...     B   \n",
       "3  QuaRel_V1_Fr_0334  Question: A car gets very hot as it drives up ...     A   \n",
       "4  QuaRel_V1_B5_1282  Question: Juan is injured in a car accident, w...     B   \n",
       "\n",
       "                                           rationale  \n",
       "0  The answer is B because the question states th...  \n",
       "1  The answer is A, because the question does not...  \n",
       "2  The answer is B because the question states th...  \n",
       "3  The answer is A. The question states that the ...  \n",
       "4  The answer is B because the question states th...  "
      ]
     },
     "execution_count": 2,
     "metadata": {},
     "output_type": "execute_result"
    }
   ],
   "source": [
    "df = pd.read_csv('quarel_with_rationales.csv')\n",
    "df.head()"
   ]
  },
  {
   "cell_type": "code",
   "execution_count": 3,
   "metadata": {},
   "outputs": [
    {
     "data": {
      "text/plain": [
       "'Question: Mike was snowboarding on the snow and hit a piece of ice. He went much faster on the ice because _____ is smoother. (A) snow (B) ice\\n'"
      ]
     },
     "execution_count": 3,
     "metadata": {},
     "output_type": "execute_result"
    }
   ],
   "source": [
    "df.iloc[0].text"
   ]
  },
  {
   "cell_type": "code",
   "execution_count": 4,
   "metadata": {},
   "outputs": [],
   "source": [
    "df.rename(columns={'text': 'context' , 'label':'source', 'rationale': 'target'}, inplace=True)"
   ]
  },
  {
   "cell_type": "code",
   "execution_count": 5,
   "metadata": {},
   "outputs": [
    {
     "data": {
      "text/html": [
       "<div>\n",
       "<style scoped>\n",
       "    .dataframe tbody tr th:only-of-type {\n",
       "        vertical-align: middle;\n",
       "    }\n",
       "\n",
       "    .dataframe tbody tr th {\n",
       "        vertical-align: top;\n",
       "    }\n",
       "\n",
       "    .dataframe thead th {\n",
       "        text-align: right;\n",
       "    }\n",
       "</style>\n",
       "<table border=\"1\" class=\"dataframe\">\n",
       "  <thead>\n",
       "    <tr style=\"text-align: right;\">\n",
       "      <th></th>\n",
       "      <th>id</th>\n",
       "      <th>context</th>\n",
       "      <th>source</th>\n",
       "      <th>target</th>\n",
       "    </tr>\n",
       "  </thead>\n",
       "  <tbody>\n",
       "    <tr>\n",
       "      <th>0</th>\n",
       "      <td>QuaRel_V1_Fr_0223</td>\n",
       "      <td>Question: Mike was snowboarding on the snow an...</td>\n",
       "      <td>B</td>\n",
       "      <td>The answer is B because the question states th...</td>\n",
       "    </tr>\n",
       "    <tr>\n",
       "      <th>1</th>\n",
       "      <td>QuaRel_V1_B5_1403</td>\n",
       "      <td>Question: John and Rita are going for a run.  ...</td>\n",
       "      <td>A</td>\n",
       "      <td>The answer is A, because the question does not...</td>\n",
       "    </tr>\n",
       "    <tr>\n",
       "      <th>2</th>\n",
       "      <td>QuaRel_V1_Fr_0455</td>\n",
       "      <td>Question: The propeller on Kate's boat moved s...</td>\n",
       "      <td>B</td>\n",
       "      <td>The answer is B because the question states th...</td>\n",
       "    </tr>\n",
       "    <tr>\n",
       "      <th>3</th>\n",
       "      <td>QuaRel_V1_Fr_0334</td>\n",
       "      <td>Question: A car gets very hot as it drives up ...</td>\n",
       "      <td>A</td>\n",
       "      <td>The answer is A. The question states that the ...</td>\n",
       "    </tr>\n",
       "    <tr>\n",
       "      <th>4</th>\n",
       "      <td>QuaRel_V1_B5_1282</td>\n",
       "      <td>Question: Juan is injured in a car accident, w...</td>\n",
       "      <td>B</td>\n",
       "      <td>The answer is B because the question states th...</td>\n",
       "    </tr>\n",
       "  </tbody>\n",
       "</table>\n",
       "</div>"
      ],
      "text/plain": [
       "                  id                                            context  \\\n",
       "0  QuaRel_V1_Fr_0223  Question: Mike was snowboarding on the snow an...   \n",
       "1  QuaRel_V1_B5_1403  Question: John and Rita are going for a run.  ...   \n",
       "2  QuaRel_V1_Fr_0455  Question: The propeller on Kate's boat moved s...   \n",
       "3  QuaRel_V1_Fr_0334  Question: A car gets very hot as it drives up ...   \n",
       "4  QuaRel_V1_B5_1282  Question: Juan is injured in a car accident, w...   \n",
       "\n",
       "  source                                             target  \n",
       "0      B  The answer is B because the question states th...  \n",
       "1      A  The answer is A, because the question does not...  \n",
       "2      B  The answer is B because the question states th...  \n",
       "3      A  The answer is A. The question states that the ...  \n",
       "4      B  The answer is B because the question states th...  "
      ]
     },
     "execution_count": 5,
     "metadata": {},
     "output_type": "execute_result"
    }
   ],
   "source": [
    "df.head()"
   ]
  },
  {
   "cell_type": "code",
   "execution_count": 6,
   "metadata": {},
   "outputs": [],
   "source": [
    "df.sample(10).to_json(\"quarel.json\", orient='records')"
   ]
  },
  {
   "cell_type": "markdown",
   "metadata": {},
   "source": []
  },
  {
   "cell_type": "code",
   "execution_count": 7,
   "metadata": {},
   "outputs": [],
   "source": [
    "interface = load_interface('interface.yml')"
   ]
  },
  {
   "cell_type": "markdown",
   "metadata": {},
   "source": []
  },
  {
   "cell_type": "code",
   "execution_count": 8,
   "metadata": {},
   "outputs": [],
   "source": [
    "local_template_path = \"interface.yml\"\n",
    "local_data_path = \"quarel.json\"\n",
    "repository_name = \"prolific-deployment\""
   ]
  },
  {
   "cell_type": "code",
   "execution_count": 9,
   "metadata": {},
   "outputs": [],
   "source": [
    "if os.path.exists('.git_credentials'):\n",
    "    # This will read the API token from a local \n",
    "    github_username = \"datalabNU\"\n",
    "    github_token = open('.git_credentials', 'r').read()\n",
    "else:\n",
    "    github_username = input(\"Please enter your GitHub username: \")\n",
    "    github_token = getpass(\"Please enter your GitHub access token (register a token at github.com/settings/tokens): \")\n",
    "\n",
    "# Log into GitHub\n",
    "g = Github(github_token)\n",
    "user = g.get_user()"
   ]
  },
  {
   "cell_type": "code",
   "execution_count": 10,
   "metadata": {},
   "outputs": [
    {
     "name": "stdout",
     "output_type": "stream",
     "text": [
      "Found existing repository: https://github.com/datalabNU/prolific-deployment.git\n"
     ]
    }
   ],
   "source": [
    "try:\n",
    "    remote_repo = g.get_repo(f\"{github_username}/{repository_name}\").clone_url\n",
    "    print(f\"Found existing repository: {remote_repo}\")\n",
    "except Exception as e:\n",
    "    remote_repo = user.create_repo(repository_name).clone_url\n",
    "    print(f\"Created new repository: {remote_repo}\")\n",
    "\n",
    "if not os.path.exists(repository_name):\n",
    "    git.Repo.clone_from(remote_repo, repository_name)\n",
    "\n",
    "repo = git.Repo(repository_name)\n"
   ]
  },
  {
   "cell_type": "code",
   "execution_count": 16,
   "metadata": {},
   "outputs": [],
   "source": [
    "for file_path in [local_template_path, local_data_path]:\n",
    "    template_repo_path = os.path.join(os.getcwd(), repository_name, file_path)\n",
    "    shutil.copy(file_path, template_repo_path)\n",
    "    repo.index.add([template_repo_path])\n",
    "repo.index.commit(\"Add a new interface template and data\")\n",
    "\n",
    "origin = repo.remote(\"origin\")"
   ]
  },
  {
   "cell_type": "code",
   "execution_count": 17,
   "metadata": {},
   "outputs": [
    {
     "name": "stdout",
     "output_type": "stream",
     "text": [
      "Pushed changes to https://github.com/datalabNU/prolific-deployment.git\n"
     ]
    }
   ],
   "source": [
    "origin.push()\n",
    "print(f\"Pushed changes to {remote_repo}\")"
   ]
  },
  {
   "cell_type": "code",
   "execution_count": 18,
   "metadata": {},
   "outputs": [
    {
     "name": "stdout",
     "output_type": "stream",
     "text": [
      "Hosted template: datalabNU/prolific-deployment/master/interface.yml\n",
      "Hosted data: datalabNU/prolific-deployment/master/quarel.json\n"
     ]
    }
   ],
   "source": [
    "template_path = f\"{github_username}/{repository_name}/master/{local_template_path}\"\n",
    "data_path = f\"{github_username}/{repository_name}/master/{local_data_path}\"\n",
    "\n",
    "print(f\"Hosted template: {template_path}\")\n",
    "print(f\"Hosted data: {data_path}\")"
   ]
  },
  {
   "cell_type": "code",
   "execution_count": 19,
   "metadata": {},
   "outputs": [],
   "source": [
    "study_url = f\"https://thresh.tools/?gh={template_path}\"\n",
    "study_url = study_url + \"&PROLIFIC_PID={%PROLIFIC_PID%}&STUDY_ID={%STUDY_ID%}&SESSION_ID={%SESSION_ID%}\""
   ]
  },
  {
   "cell_type": "code",
   "execution_count": 20,
   "metadata": {},
   "outputs": [
    {
     "name": "stdout",
     "output_type": "stream",
     "text": [
      "View your hosted template here:\t\t  https://thresh.tools/?gh=datalabNU/prolific-deployment/master/interface.yml&PROLIFIC_PID={%PROLIFIC_PID%}&STUDY_ID={%STUDY_ID%}&SESSION_ID={%SESSION_ID%}\n",
      "Your study (with data) will be linked to: https://thresh.tools/?gh=datalabNU/prolific-deployment/master/interface.yml&PROLIFIC_PID={%PROLIFIC_PID%}&STUDY_ID={%STUDY_ID%}&SESSION_ID={%SESSION_ID%}&d=datalabNU/prolific-deployment/master/quarel.json\n"
     ]
    }
   ],
   "source": [
    "print(f\"View your hosted template here:\\t\\t  {study_url}\")\n",
    "\n",
    "study_url = f\"{study_url}&d={data_path}\"\n",
    "\n",
    "print(f\"Your study (with data) will be linked to: {study_url}\")"
   ]
  },
  {
   "cell_type": "code",
   "execution_count": null,
   "metadata": {},
   "outputs": [],
   "source": []
  }
 ],
 "metadata": {
  "kernelspec": {
   "display_name": "py38",
   "language": "python",
   "name": "python3"
  },
  "language_info": {
   "codemirror_mode": {
    "name": "ipython",
    "version": 3
   },
   "file_extension": ".py",
   "mimetype": "text/x-python",
   "name": "python",
   "nbconvert_exporter": "python",
   "pygments_lexer": "ipython3",
   "version": "3.8.12"
  }
 },
 "nbformat": 4,
 "nbformat_minor": 2
}
